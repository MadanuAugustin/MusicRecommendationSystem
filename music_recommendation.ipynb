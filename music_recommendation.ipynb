{
 "cells": [
  {
   "cell_type": "markdown",
   "id": "e529fe16-78c1-46d9-a826-f4059bdd81af",
   "metadata": {},
   "source": [
    "## MUSIC RECOMMENDATION SYSTEM USING HYBRID RECOMMENDATION TECHNIQUE"
   ]
  },
  {
   "cell_type": "code",
   "execution_count": null,
   "id": "c2065bfc-3217-478c-b563-eaf5777e669c",
   "metadata": {},
   "outputs": [],
   "source": []
  },
  {
   "cell_type": "code",
   "execution_count": 2,
   "id": "8c36ecc4-4b2c-4d44-81b3-fd2b26fefae3",
   "metadata": {},
   "outputs": [],
   "source": [
    "import requests\n",
    "\n",
    "# The base64 library \n",
    "# in Python provides functions for encoding binary data into printable ASCII characters and decoding such encodings back to binary data\n",
    "import base64\n",
    "import pandas as pd\n",
    "\n",
    "# spotipy library is responsible for collecting music data from any playlist on spotify\n",
    "import spotipy\n",
    "from spotipy.oauth2 import SpotifyOAuth"
   ]
  },
  {
   "cell_type": "code",
   "execution_count": 2,
   "id": "a2b11937-a138-4625-bcc1-daafef1e4c14",
   "metadata": {},
   "outputs": [],
   "source": [
    "pd.set_option('display.max_columns', 1000)\n",
    "pd.set_option('display.max_row', 10000)"
   ]
  },
  {
   "cell_type": "code",
   "execution_count": null,
   "id": "ee746fa1-ebf7-4747-a452-3c5592e6c276",
   "metadata": {},
   "outputs": [],
   "source": []
  },
  {
   "cell_type": "markdown",
   "id": "e15502e9-8ccc-419e-8f29-3648a2eeccc7",
   "metadata": {},
   "source": [
    "### CLIENT_ID AND CLIENT_SECRET"
   ]
  },
  {
   "cell_type": "code",
   "execution_count": 3,
   "id": "87bbea5a-32d9-4c30-832b-76ff1049ebe8",
   "metadata": {},
   "outputs": [],
   "source": [
    "# Store the clientId and clientSecret in variables 'CLIENT_ID' and 'CLIENT_SECRET'"
   ]
  },
  {
   "cell_type": "code",
   "execution_count": 3,
   "id": "9ed36457-3fa0-4a45-8847-4f6afef0c53e",
   "metadata": {},
   "outputs": [],
   "source": [
    "CLIENT_ID = '198da2205f494f7bb7788e9f927b7ee3'\n",
    "\n",
    "CLIENT_SECRET = '511e99423d3846e7bedf70fd7caacc4b'"
   ]
  },
  {
   "cell_type": "code",
   "execution_count": null,
   "id": "f513defb-6f5f-4842-97c4-59ad3b212478",
   "metadata": {},
   "outputs": [],
   "source": []
  },
  {
   "cell_type": "markdown",
   "id": "b6395d5b-6d95-4d9f-b655-a4b676980e40",
   "metadata": {},
   "source": [
    "### ENCODE CLIENT_ID AND CLIENT_SECRET"
   ]
  },
  {
   "cell_type": "code",
   "execution_count": 4,
   "id": "f23839f3-e8d0-45b9-a1aa-d8adfe0a80c8",
   "metadata": {},
   "outputs": [],
   "source": [
    "client_credentials = f\"{CLIENT_ID}:{CLIENT_SECRET}\"\n",
    "\n",
    "encoded_client_credentials = base64.b64encode(client_credentials.encode())"
   ]
  },
  {
   "cell_type": "code",
   "execution_count": 5,
   "id": "d7bc4aa9-70cb-4c2a-ab0b-b9117525fc47",
   "metadata": {},
   "outputs": [
    {
     "data": {
      "text/plain": [
       "'198da2205f494f7bb7788e9f927b7ee3:511e99423d3846e7bedf70fd7caacc4b'"
      ]
     },
     "execution_count": 5,
     "metadata": {},
     "output_type": "execute_result"
    }
   ],
   "source": [
    "client_credentials"
   ]
  },
  {
   "cell_type": "code",
   "execution_count": 6,
   "id": "f7e30880-47c6-4a59-9f63-2fc2f40e560b",
   "metadata": {},
   "outputs": [
    {
     "data": {
      "text/plain": [
       "b'MTk4ZGEyMjA1ZjQ5NGY3YmI3Nzg4ZTlmOTI3YjdlZTM6NTExZTk5NDIzZDM4NDZlN2JlZGY3MGZkN2NhYWNjNGI='"
      ]
     },
     "execution_count": 6,
     "metadata": {},
     "output_type": "execute_result"
    }
   ],
   "source": [
    "encoded_client_credentials"
   ]
  },
  {
   "cell_type": "code",
   "execution_count": null,
   "id": "f0352c41-bb28-458e-9e4b-7b79a9392820",
   "metadata": {},
   "outputs": [],
   "source": []
  },
  {
   "cell_type": "markdown",
   "id": "e89847ef-5697-483f-a4b9-04c9d6f1950e",
   "metadata": {},
   "source": [
    "### REQUESTING THE ACCESS TOKEN"
   ]
  },
  {
   "cell_type": "code",
   "execution_count": 8,
   "id": "6e14a42a-0048-4a54-b7ec-2ca808ccc026",
   "metadata": {},
   "outputs": [],
   "source": [
    "# The access token serves as a temporary authorization credential, allowing the code to make authenticated requests to the Spotify API on behalf of the application."
   ]
  },
  {
   "cell_type": "code",
   "execution_count": 5,
   "id": "710b55e3-4f1e-4abf-9c71-e23e7bec0d77",
   "metadata": {},
   "outputs": [],
   "source": [
    "token_URL = 'https://accounts.spotify.com/api/token'"
   ]
  },
  {
   "cell_type": "code",
   "execution_count": 6,
   "id": "8f7e03c4-62b0-4426-986d-36355bba82a9",
   "metadata": {},
   "outputs": [],
   "source": [
    "headers = {\n",
    "    'Authorization' : f'Basic {encoded_client_credentials.decode()}'\n",
    "}"
   ]
  },
  {
   "cell_type": "code",
   "execution_count": 7,
   "id": "adda3953-186e-4b37-91c4-88620c1cde68",
   "metadata": {},
   "outputs": [],
   "source": [
    "data = {\n",
    "    'grant_type' : 'client_credentials'\n",
    "}"
   ]
  },
  {
   "cell_type": "code",
   "execution_count": 14,
   "id": "dcde3aa8-d6de-4da9-a479-3f788e35f557",
   "metadata": {},
   "outputs": [],
   "source": [
    "# sending a post request"
   ]
  },
  {
   "cell_type": "code",
   "execution_count": 8,
   "id": "190b282e-cadd-431f-af81-0c48305fcbcb",
   "metadata": {},
   "outputs": [],
   "source": [
    "response = requests.post(token_URL, data = data, headers = headers)"
   ]
  },
  {
   "cell_type": "code",
   "execution_count": 20,
   "id": "85f90473-46dd-493a-b91b-fceffc0f1f3f",
   "metadata": {},
   "outputs": [
    {
     "data": {
      "text/plain": [
       "<Response [200]>"
      ]
     },
     "execution_count": 20,
     "metadata": {},
     "output_type": "execute_result"
    }
   ],
   "source": [
    "response"
   ]
  },
  {
   "cell_type": "code",
   "execution_count": 9,
   "id": "18257e9c-1285-4dd5-9b95-b9a52612e199",
   "metadata": {},
   "outputs": [
    {
     "data": {
      "text/plain": [
       "{'access_token': 'BQB5eFDgN92Ayq68D7NTYOa0S8-UQs516iiQNE6ZgSjOvpDO9qdbMpyVT0sbyBZrwHq3wzAukKzo_h0Aq-8UXgu4yVGb7HFczqvu9-jyq43syqQtvJA',\n",
       " 'token_type': 'Bearer',\n",
       " 'expires_in': 3600}"
      ]
     },
     "execution_count": 9,
     "metadata": {},
     "output_type": "execute_result"
    }
   ],
   "source": [
    "response.json()"
   ]
  },
  {
   "cell_type": "code",
   "execution_count": 22,
   "id": "f4f27db3-4858-4d68-b637-42e48aeeb894",
   "metadata": {},
   "outputs": [
    {
     "data": {
      "text/plain": [
       "200"
      ]
     },
     "execution_count": 22,
     "metadata": {},
     "output_type": "execute_result"
    }
   ],
   "source": [
    "response.status_code"
   ]
  },
  {
   "cell_type": "code",
   "execution_count": 15,
   "id": "4564057d-5110-40bd-9440-4de238419efd",
   "metadata": {},
   "outputs": [],
   "source": []
  },
  {
   "cell_type": "code",
   "execution_count": 18,
   "id": "8823404f",
   "metadata": {},
   "outputs": [
    {
     "data": {
      "text/plain": [
       "str"
      ]
     },
     "execution_count": 18,
     "metadata": {},
     "output_type": "execute_result"
    }
   ],
   "source": []
  },
  {
   "cell_type": "code",
   "execution_count": 23,
   "id": "a53e55d3-d66b-4a5e-9760-c32e27ab4df0",
   "metadata": {},
   "outputs": [
    {
     "name": "stdout",
     "output_type": "stream",
     "text": [
      "BQAO5bLtvWEAHH9sW4cjgD3Eg_FDSzBO0cLK8B9cplDl7pI9sb2hf7fgcSuK8IIFH0onT2H9BvqBgQOR-MIKUMue6v1xQJvth0BFYQw6My6ZnLrlaE0\n",
      "Access token obtained successfully...!\n"
     ]
    }
   ],
   "source": [
    "if response.status_code == 200:\n",
    "    access_token = response.json()['access_token']\n",
    "    print(access_token)\n",
    "    print('Access token obtained successfully...!')\n",
    "\n",
    "else:\n",
    "    print('Error obtaining access token...!')\n",
    "    exit()"
   ]
  },
  {
   "cell_type": "code",
   "execution_count": null,
   "id": "f49ac620-1587-407a-9660-ff1607bc911b",
   "metadata": {},
   "outputs": [],
   "source": []
  },
  {
   "cell_type": "markdown",
   "id": "3707e7c4-dada-4334-978d-a79b2393ae3c",
   "metadata": {},
   "source": [
    "### BUILDING A FUNCTION TO EXTRACT THE DATA FROM THE SPOTIFY PLATFROM"
   ]
  },
  {
   "cell_type": "code",
   "execution_count": 18,
   "id": "2b85e2c7-6980-4dd2-ae2c-3fdf88038ca6",
   "metadata": {},
   "outputs": [],
   "source": [
    "# defining a function responsible for collecting music data from any playlist on Spotify"
   ]
  },
  {
   "cell_type": "code",
   "execution_count": 24,
   "id": "a3c2459e-38ef-45c2-94d9-bd4900474b89",
   "metadata": {},
   "outputs": [],
   "source": [
    "def get_trending_playlist_data(playlist_id, access_token):\n",
    "\n",
    "    # setting up Spotipy with access token\n",
    "    sp = spotipy.Spotify(auth = access_token)\n",
    "\n",
    "    # fetching the tracks from the playlist\n",
    "    playlist_tracks = sp.playlist_tracks(playlist_id, fields = 'items(track(id, name, artists, album(id, name)))')\n",
    "\n",
    "\n",
    "    # extracting relevant information and storing them in a list of dictionaries\n",
    "\n",
    "    music_data = []\n",
    "\n",
    "    for track_info in playlist_tracks['items']:\n",
    "        \n",
    "        track = track_info['track']\n",
    "\n",
    "        track_name = track['name']\n",
    "\n",
    "        artists = ', '.join([artist['name'] for artist in track['artists']])\n",
    "\n",
    "        album_name = track['album']['name']\n",
    "\n",
    "        album_id = track['album']['id']\n",
    "\n",
    "        track_id = track['id']\n",
    "\n",
    "\n",
    "    # fetching audio features for the track\n",
    "\n",
    "        audio_features = sp.audio_features(track_id)[0] if track_id != 'Not available' else None\n",
    "\n",
    "    # fetching release date of the album\n",
    "\n",
    "        try:\n",
    "            album_info = sp.album(album_id) if album_id != 'Not available' else None\n",
    "            release_date = album_info['release_date'] if album_info else None\n",
    "\n",
    "        except:\n",
    "            release_date = None\n",
    "\n",
    "\n",
    "    # fetching popularity of the track\n",
    "\n",
    "        try:\n",
    "            track_info = sp.track(track_id) if track_id != 'Not available' else None\n",
    "            popularity = track_info['popularity'] if track_info else None\n",
    "\n",
    "        except:\n",
    "            popularity = None\n",
    "\n",
    "    # fetching additional track information\n",
    "\n",
    "        track_data = {\n",
    "            'Track_Name' : track_name,\n",
    "            'Artists' : artists,\n",
    "            'Album_Name' : album_name,\n",
    "            'Album_ID' : album_id,\n",
    "            'Track_ID' : track_id,\n",
    "            'Popularity' : popularity,\n",
    "            'Release_date' : release_date,\n",
    "            'Duration(ms)' : audio_features['duration_ms'] if audio_features else None,\n",
    "            'Explicit' : track_info.get('explicit', None),\n",
    "            'External_URLs' : track_info.get('external_urls', {}).get('spotify', None),\n",
    "            'Danceability' : audio_features['danceability'] if audio_features else None,\n",
    "            'Energy' : audio_features['energy'] if audio_features else None,\n",
    "            'Key' : audio_features['key'] if audio_features else None,\n",
    "            'Loudness' : audio_features['loudness'] if audio_features else None,\n",
    "            'Mode' : audio_features['mode'] if audio_features else None,\n",
    "            'Speechiness' : audio_features['speechiness'] if audio_features else None,\n",
    "            'Acousticness' : audio_features['acousticness'] if audio_features else None,\n",
    "            'Instrumentalness' : audio_features['instrumentalness'] if audio_features else None,\n",
    "            'Liveness' : audio_features['liveness'] if audio_features else None,\n",
    "            'Valence' : audio_features['valence'] if audio_features else None,\n",
    "            'Tempo' : audio_features['tempo'] if audio_features else None  \n",
    "        }\n",
    "\n",
    "\n",
    "        music_data.append(track_data)\n",
    "\n",
    "\n",
    "# creating dataframe from the above dictionary\n",
    "\n",
    "    df =  pd.DataFrame(music_data)\n",
    "\n",
    "    return df"
   ]
  },
  {
   "cell_type": "code",
   "execution_count": 25,
   "id": "89cee3b7-c110-4670-9b45-8ba2e8f61d91",
   "metadata": {},
   "outputs": [
    {
     "data": {
      "text/plain": [
       "'BQAO5bLtvWEAHH9sW4cjgD3Eg_FDSzBO0cLK8B9cplDl7pI9sb2hf7fgcSuK8IIFH0onT2H9BvqBgQOR-MIKUMue6v1xQJvth0BFYQw6My6ZnLrlaE0'"
      ]
     },
     "execution_count": 25,
     "metadata": {},
     "output_type": "execute_result"
    }
   ],
   "source": [
    "access_token"
   ]
  },
  {
   "cell_type": "code",
   "execution_count": 26,
   "id": "9cc4206d-89ef-44b8-88c3-5929fb8f655c",
   "metadata": {},
   "outputs": [],
   "source": [
    "playlist_id = '37i9dQZF1DX76Wlfdnj7AP'"
   ]
  },
  {
   "cell_type": "code",
   "execution_count": 27,
   "id": "d84e0af9-49e9-49ca-b7e8-a726c7c0fc85",
   "metadata": {},
   "outputs": [],
   "source": [
    "music_df = get_trending_playlist_data(playlist_id , access_token)"
   ]
  },
  {
   "cell_type": "code",
   "execution_count": 29,
   "id": "4f4c6eb3-a111-4020-a66b-02b0063524c3",
   "metadata": {},
   "outputs": [
    {
     "data": {
      "text/html": [
       "<div>\n",
       "<style scoped>\n",
       "    .dataframe tbody tr th:only-of-type {\n",
       "        vertical-align: middle;\n",
       "    }\n",
       "\n",
       "    .dataframe tbody tr th {\n",
       "        vertical-align: top;\n",
       "    }\n",
       "\n",
       "    .dataframe thead th {\n",
       "        text-align: right;\n",
       "    }\n",
       "</style>\n",
       "<table border=\"1\" class=\"dataframe\">\n",
       "  <thead>\n",
       "    <tr style=\"text-align: right;\">\n",
       "      <th></th>\n",
       "      <th>Track_Name</th>\n",
       "      <th>Artists</th>\n",
       "      <th>Album_Name</th>\n",
       "      <th>Album_ID</th>\n",
       "      <th>Track_ID</th>\n",
       "      <th>Popularity</th>\n",
       "      <th>Release_date</th>\n",
       "      <th>Duration(ms)</th>\n",
       "      <th>Explicit</th>\n",
       "      <th>External_URLs</th>\n",
       "      <th>Danceability</th>\n",
       "      <th>Energy</th>\n",
       "      <th>Key</th>\n",
       "      <th>Loudness</th>\n",
       "      <th>Mode</th>\n",
       "      <th>Speechiness</th>\n",
       "      <th>Acousticness</th>\n",
       "      <th>Instrumentalness</th>\n",
       "      <th>Liveness</th>\n",
       "      <th>Valence</th>\n",
       "      <th>Tempo</th>\n",
       "    </tr>\n",
       "  </thead>\n",
       "  <tbody>\n",
       "    <tr>\n",
       "      <th>0</th>\n",
       "      <td>CARNIVAL</td>\n",
       "      <td>¥$, Kanye West, Ty Dolla $ign, Rich The Kid, P...</td>\n",
       "      <td>VULTURES 1</td>\n",
       "      <td>30zwjSQEodaUXCn11nmiVF</td>\n",
       "      <td>3w0w2T288dec0mgeZZqoNN</td>\n",
       "      <td>94</td>\n",
       "      <td>2024-02-09</td>\n",
       "      <td>264324</td>\n",
       "      <td>True</td>\n",
       "      <td>https://open.spotify.com/track/3w0w2T288dec0mg...</td>\n",
       "      <td>0.594</td>\n",
       "      <td>0.811</td>\n",
       "      <td>1</td>\n",
       "      <td>-5.746</td>\n",
       "      <td>1</td>\n",
       "      <td>0.1590</td>\n",
       "      <td>0.18900</td>\n",
       "      <td>0.000000</td>\n",
       "      <td>0.3390</td>\n",
       "      <td>0.311</td>\n",
       "      <td>148.144</td>\n",
       "    </tr>\n",
       "    <tr>\n",
       "      <th>1</th>\n",
       "      <td>redrum</td>\n",
       "      <td>21 Savage</td>\n",
       "      <td>american dream</td>\n",
       "      <td>2RRYaYHY7fIIdvFlvgb5vq</td>\n",
       "      <td>52eIcoLUM25zbQupAZYoFh</td>\n",
       "      <td>91</td>\n",
       "      <td>2024-01-12</td>\n",
       "      <td>270698</td>\n",
       "      <td>True</td>\n",
       "      <td>https://open.spotify.com/track/52eIcoLUM25zbQu...</td>\n",
       "      <td>0.625</td>\n",
       "      <td>0.733</td>\n",
       "      <td>2</td>\n",
       "      <td>-8.757</td>\n",
       "      <td>1</td>\n",
       "      <td>0.0488</td>\n",
       "      <td>0.00598</td>\n",
       "      <td>0.000983</td>\n",
       "      <td>0.3750</td>\n",
       "      <td>0.244</td>\n",
       "      <td>172.090</td>\n",
       "    </tr>\n",
       "    <tr>\n",
       "      <th>2</th>\n",
       "      <td>Type Shit</td>\n",
       "      <td>Future, Metro Boomin, Travis Scott, Playboi Carti</td>\n",
       "      <td>WE DON'T TRUST YOU</td>\n",
       "      <td>4iqbFIdGOTzXeDtt9owjQn</td>\n",
       "      <td>28drn6tQo95MRvO0jQEo5C</td>\n",
       "      <td>91</td>\n",
       "      <td>2024-03-22</td>\n",
       "      <td>228267</td>\n",
       "      <td>True</td>\n",
       "      <td>https://open.spotify.com/track/28drn6tQo95MRvO...</td>\n",
       "      <td>0.640</td>\n",
       "      <td>0.552</td>\n",
       "      <td>2</td>\n",
       "      <td>-5.679</td>\n",
       "      <td>1</td>\n",
       "      <td>0.1290</td>\n",
       "      <td>0.02150</td>\n",
       "      <td>0.000000</td>\n",
       "      <td>0.1190</td>\n",
       "      <td>0.112</td>\n",
       "      <td>144.941</td>\n",
       "    </tr>\n",
       "    <tr>\n",
       "      <th>3</th>\n",
       "      <td>Lovin On Me</td>\n",
       "      <td>Jack Harlow</td>\n",
       "      <td>Lovin On Me</td>\n",
       "      <td>6VCO0fDBGbRW8mCEvV95af</td>\n",
       "      <td>4xhsWYTOGcal8zt0J161CU</td>\n",
       "      <td>91</td>\n",
       "      <td>2023-11-10</td>\n",
       "      <td>138411</td>\n",
       "      <td>True</td>\n",
       "      <td>https://open.spotify.com/track/4xhsWYTOGcal8zt...</td>\n",
       "      <td>0.943</td>\n",
       "      <td>0.558</td>\n",
       "      <td>2</td>\n",
       "      <td>-4.911</td>\n",
       "      <td>1</td>\n",
       "      <td>0.0568</td>\n",
       "      <td>0.00260</td>\n",
       "      <td>0.000002</td>\n",
       "      <td>0.0937</td>\n",
       "      <td>0.606</td>\n",
       "      <td>104.983</td>\n",
       "    </tr>\n",
       "    <tr>\n",
       "      <th>4</th>\n",
       "      <td>Tell Ur Girlfriend</td>\n",
       "      <td>Lay Bankz</td>\n",
       "      <td>Tell Ur Girlfriend</td>\n",
       "      <td>0S8DGX9LmBkRSVi3ywcCOT</td>\n",
       "      <td>3lMzT16MjAKKXF7pSZn13B</td>\n",
       "      <td>91</td>\n",
       "      <td>2024-02-07</td>\n",
       "      <td>124444</td>\n",
       "      <td>True</td>\n",
       "      <td>https://open.spotify.com/track/3lMzT16MjAKKXF7...</td>\n",
       "      <td>0.866</td>\n",
       "      <td>0.741</td>\n",
       "      <td>7</td>\n",
       "      <td>-4.660</td>\n",
       "      <td>1</td>\n",
       "      <td>0.2450</td>\n",
       "      <td>0.09330</td>\n",
       "      <td>0.000000</td>\n",
       "      <td>0.0297</td>\n",
       "      <td>0.614</td>\n",
       "      <td>135.070</td>\n",
       "    </tr>\n",
       "  </tbody>\n",
       "</table>\n",
       "</div>"
      ],
      "text/plain": [
       "           Track_Name                                            Artists  \\\n",
       "0            CARNIVAL  ¥$, Kanye West, Ty Dolla $ign, Rich The Kid, P...   \n",
       "1              redrum                                          21 Savage   \n",
       "2           Type Shit  Future, Metro Boomin, Travis Scott, Playboi Carti   \n",
       "3         Lovin On Me                                        Jack Harlow   \n",
       "4  Tell Ur Girlfriend                                          Lay Bankz   \n",
       "\n",
       "           Album_Name                Album_ID                Track_ID  \\\n",
       "0          VULTURES 1  30zwjSQEodaUXCn11nmiVF  3w0w2T288dec0mgeZZqoNN   \n",
       "1      american dream  2RRYaYHY7fIIdvFlvgb5vq  52eIcoLUM25zbQupAZYoFh   \n",
       "2  WE DON'T TRUST YOU  4iqbFIdGOTzXeDtt9owjQn  28drn6tQo95MRvO0jQEo5C   \n",
       "3         Lovin On Me  6VCO0fDBGbRW8mCEvV95af  4xhsWYTOGcal8zt0J161CU   \n",
       "4  Tell Ur Girlfriend  0S8DGX9LmBkRSVi3ywcCOT  3lMzT16MjAKKXF7pSZn13B   \n",
       "\n",
       "   Popularity Release_date  Duration(ms)  Explicit  \\\n",
       "0          94   2024-02-09        264324      True   \n",
       "1          91   2024-01-12        270698      True   \n",
       "2          91   2024-03-22        228267      True   \n",
       "3          91   2023-11-10        138411      True   \n",
       "4          91   2024-02-07        124444      True   \n",
       "\n",
       "                                       External_URLs  Danceability  Energy  \\\n",
       "0  https://open.spotify.com/track/3w0w2T288dec0mg...         0.594   0.811   \n",
       "1  https://open.spotify.com/track/52eIcoLUM25zbQu...         0.625   0.733   \n",
       "2  https://open.spotify.com/track/28drn6tQo95MRvO...         0.640   0.552   \n",
       "3  https://open.spotify.com/track/4xhsWYTOGcal8zt...         0.943   0.558   \n",
       "4  https://open.spotify.com/track/3lMzT16MjAKKXF7...         0.866   0.741   \n",
       "\n",
       "   Key  Loudness  Mode  Speechiness  Acousticness  Instrumentalness  Liveness  \\\n",
       "0    1    -5.746     1       0.1590       0.18900          0.000000    0.3390   \n",
       "1    2    -8.757     1       0.0488       0.00598          0.000983    0.3750   \n",
       "2    2    -5.679     1       0.1290       0.02150          0.000000    0.1190   \n",
       "3    2    -4.911     1       0.0568       0.00260          0.000002    0.0937   \n",
       "4    7    -4.660     1       0.2450       0.09330          0.000000    0.0297   \n",
       "\n",
       "   Valence    Tempo  \n",
       "0    0.311  148.144  \n",
       "1    0.244  172.090  \n",
       "2    0.112  144.941  \n",
       "3    0.606  104.983  \n",
       "4    0.614  135.070  "
      ]
     },
     "execution_count": 29,
     "metadata": {},
     "output_type": "execute_result"
    }
   ],
   "source": [
    "music_df.head()"
   ]
  },
  {
   "cell_type": "code",
   "execution_count": null,
   "id": "2ed8b58c-121a-4f53-a32f-5a02f43c0152",
   "metadata": {},
   "outputs": [],
   "source": []
  },
  {
   "cell_type": "markdown",
   "id": "9c4cae9c-66d7-4262-b959-69911b866623",
   "metadata": {},
   "source": [
    "### EXPLORING THE DATA"
   ]
  },
  {
   "cell_type": "code",
   "execution_count": null,
   "id": "8cb04c70-cafd-48e6-95f4-58e7deff4f81",
   "metadata": {},
   "outputs": [],
   "source": []
  },
  {
   "cell_type": "code",
   "execution_count": 30,
   "id": "15ed560b-079b-49b3-987f-99052b087076",
   "metadata": {},
   "outputs": [
    {
     "data": {
      "text/plain": [
       "(100, 21)"
      ]
     },
     "execution_count": 30,
     "metadata": {},
     "output_type": "execute_result"
    }
   ],
   "source": [
    "music_df.shape"
   ]
  },
  {
   "cell_type": "code",
   "execution_count": null,
   "id": "5313bde8-fd5c-4e5d-a039-029824b3f88f",
   "metadata": {},
   "outputs": [],
   "source": []
  },
  {
   "cell_type": "code",
   "execution_count": 31,
   "id": "41426795-2fc0-4262-b848-85ed34ffabde",
   "metadata": {},
   "outputs": [
    {
     "name": "stdout",
     "output_type": "stream",
     "text": [
      "<class 'pandas.core.frame.DataFrame'>\n",
      "RangeIndex: 100 entries, 0 to 99\n",
      "Data columns (total 21 columns):\n",
      " #   Column            Non-Null Count  Dtype  \n",
      "---  ------            --------------  -----  \n",
      " 0   Track_Name        100 non-null    object \n",
      " 1   Artists           100 non-null    object \n",
      " 2   Album_Name        100 non-null    object \n",
      " 3   Album_ID          100 non-null    object \n",
      " 4   Track_ID          100 non-null    object \n",
      " 5   Popularity        100 non-null    int64  \n",
      " 6   Release_date      100 non-null    object \n",
      " 7   Duration(ms)      100 non-null    int64  \n",
      " 8   Explicit          100 non-null    bool   \n",
      " 9   External_URLs     100 non-null    object \n",
      " 10  Danceability      100 non-null    float64\n",
      " 11  Energy            100 non-null    float64\n",
      " 12  Key               100 non-null    int64  \n",
      " 13  Loudness          100 non-null    float64\n",
      " 14  Mode              100 non-null    int64  \n",
      " 15  Speechiness       100 non-null    float64\n",
      " 16  Acousticness      100 non-null    float64\n",
      " 17  Instrumentalness  100 non-null    float64\n",
      " 18  Liveness          100 non-null    float64\n",
      " 19  Valence           100 non-null    float64\n",
      " 20  Tempo             100 non-null    float64\n",
      "dtypes: bool(1), float64(9), int64(4), object(7)\n",
      "memory usage: 15.9+ KB\n"
     ]
    }
   ],
   "source": [
    "music_df.info()"
   ]
  },
  {
   "cell_type": "code",
   "execution_count": null,
   "id": "2f209afb-2d9f-4f09-a00b-90de214bcffa",
   "metadata": {},
   "outputs": [],
   "source": []
  },
  {
   "cell_type": "code",
   "execution_count": 32,
   "id": "543ebdaa-ccc6-48b2-b0db-65c7f088b212",
   "metadata": {},
   "outputs": [
    {
     "data": {
      "text/html": [
       "<div>\n",
       "<style scoped>\n",
       "    .dataframe tbody tr th:only-of-type {\n",
       "        vertical-align: middle;\n",
       "    }\n",
       "\n",
       "    .dataframe tbody tr th {\n",
       "        vertical-align: top;\n",
       "    }\n",
       "\n",
       "    .dataframe thead th {\n",
       "        text-align: right;\n",
       "    }\n",
       "</style>\n",
       "<table border=\"1\" class=\"dataframe\">\n",
       "  <thead>\n",
       "    <tr style=\"text-align: right;\">\n",
       "      <th></th>\n",
       "      <th>count</th>\n",
       "      <th>mean</th>\n",
       "      <th>std</th>\n",
       "      <th>min</th>\n",
       "      <th>25%</th>\n",
       "      <th>50%</th>\n",
       "      <th>75%</th>\n",
       "      <th>max</th>\n",
       "    </tr>\n",
       "  </thead>\n",
       "  <tbody>\n",
       "    <tr>\n",
       "      <th>Popularity</th>\n",
       "      <td>100.0</td>\n",
       "      <td>78.860000</td>\n",
       "      <td>5.868973</td>\n",
       "      <td>70.000000</td>\n",
       "      <td>75.00000</td>\n",
       "      <td>78.00000</td>\n",
       "      <td>83.00000</td>\n",
       "      <td>94.000</td>\n",
       "    </tr>\n",
       "    <tr>\n",
       "      <th>Duration(ms)</th>\n",
       "      <td>100.0</td>\n",
       "      <td>180562.540000</td>\n",
       "      <td>44790.407022</td>\n",
       "      <td>97393.000000</td>\n",
       "      <td>148430.00000</td>\n",
       "      <td>171777.00000</td>\n",
       "      <td>203162.75000</td>\n",
       "      <td>319192.000</td>\n",
       "    </tr>\n",
       "    <tr>\n",
       "      <th>Danceability</th>\n",
       "      <td>100.0</td>\n",
       "      <td>0.729540</td>\n",
       "      <td>0.119274</td>\n",
       "      <td>0.454000</td>\n",
       "      <td>0.63550</td>\n",
       "      <td>0.73800</td>\n",
       "      <td>0.81925</td>\n",
       "      <td>0.948</td>\n",
       "    </tr>\n",
       "    <tr>\n",
       "      <th>Energy</th>\n",
       "      <td>100.0</td>\n",
       "      <td>0.743250</td>\n",
       "      <td>0.140636</td>\n",
       "      <td>0.388000</td>\n",
       "      <td>0.65650</td>\n",
       "      <td>0.76000</td>\n",
       "      <td>0.86125</td>\n",
       "      <td>0.972</td>\n",
       "    </tr>\n",
       "    <tr>\n",
       "      <th>Key</th>\n",
       "      <td>100.0</td>\n",
       "      <td>5.430000</td>\n",
       "      <td>3.685228</td>\n",
       "      <td>0.000000</td>\n",
       "      <td>1.75000</td>\n",
       "      <td>6.00000</td>\n",
       "      <td>8.25000</td>\n",
       "      <td>11.000</td>\n",
       "    </tr>\n",
       "    <tr>\n",
       "      <th>Loudness</th>\n",
       "      <td>100.0</td>\n",
       "      <td>-5.536050</td>\n",
       "      <td>1.961216</td>\n",
       "      <td>-12.727000</td>\n",
       "      <td>-6.40625</td>\n",
       "      <td>-5.39550</td>\n",
       "      <td>-4.49800</td>\n",
       "      <td>-0.424</td>\n",
       "    </tr>\n",
       "    <tr>\n",
       "      <th>Mode</th>\n",
       "      <td>100.0</td>\n",
       "      <td>0.580000</td>\n",
       "      <td>0.496045</td>\n",
       "      <td>0.000000</td>\n",
       "      <td>0.00000</td>\n",
       "      <td>1.00000</td>\n",
       "      <td>1.00000</td>\n",
       "      <td>1.000</td>\n",
       "    </tr>\n",
       "    <tr>\n",
       "      <th>Speechiness</th>\n",
       "      <td>100.0</td>\n",
       "      <td>0.125231</td>\n",
       "      <td>0.108772</td>\n",
       "      <td>0.030000</td>\n",
       "      <td>0.04735</td>\n",
       "      <td>0.07795</td>\n",
       "      <td>0.17525</td>\n",
       "      <td>0.491</td>\n",
       "    </tr>\n",
       "    <tr>\n",
       "      <th>Acousticness</th>\n",
       "      <td>100.0</td>\n",
       "      <td>0.089471</td>\n",
       "      <td>0.122845</td>\n",
       "      <td>0.000307</td>\n",
       "      <td>0.01710</td>\n",
       "      <td>0.04485</td>\n",
       "      <td>0.11275</td>\n",
       "      <td>0.848</td>\n",
       "    </tr>\n",
       "    <tr>\n",
       "      <th>Instrumentalness</th>\n",
       "      <td>100.0</td>\n",
       "      <td>0.044521</td>\n",
       "      <td>0.172892</td>\n",
       "      <td>0.000000</td>\n",
       "      <td>0.00000</td>\n",
       "      <td>0.00001</td>\n",
       "      <td>0.00128</td>\n",
       "      <td>0.901</td>\n",
       "    </tr>\n",
       "    <tr>\n",
       "      <th>Liveness</th>\n",
       "      <td>100.0</td>\n",
       "      <td>0.213728</td>\n",
       "      <td>0.141626</td>\n",
       "      <td>0.029700</td>\n",
       "      <td>0.11375</td>\n",
       "      <td>0.15250</td>\n",
       "      <td>0.30950</td>\n",
       "      <td>0.790</td>\n",
       "    </tr>\n",
       "    <tr>\n",
       "      <th>Valence</th>\n",
       "      <td>100.0</td>\n",
       "      <td>0.466031</td>\n",
       "      <td>0.216892</td>\n",
       "      <td>0.038500</td>\n",
       "      <td>0.30275</td>\n",
       "      <td>0.44450</td>\n",
       "      <td>0.61500</td>\n",
       "      <td>0.972</td>\n",
       "    </tr>\n",
       "    <tr>\n",
       "      <th>Tempo</th>\n",
       "      <td>100.0</td>\n",
       "      <td>130.599830</td>\n",
       "      <td>21.329170</td>\n",
       "      <td>61.311000</td>\n",
       "      <td>121.89300</td>\n",
       "      <td>127.97050</td>\n",
       "      <td>144.99125</td>\n",
       "      <td>180.011</td>\n",
       "    </tr>\n",
       "  </tbody>\n",
       "</table>\n",
       "</div>"
      ],
      "text/plain": [
       "                  count           mean           std           min  \\\n",
       "Popularity        100.0      78.860000      5.868973     70.000000   \n",
       "Duration(ms)      100.0  180562.540000  44790.407022  97393.000000   \n",
       "Danceability      100.0       0.729540      0.119274      0.454000   \n",
       "Energy            100.0       0.743250      0.140636      0.388000   \n",
       "Key               100.0       5.430000      3.685228      0.000000   \n",
       "Loudness          100.0      -5.536050      1.961216    -12.727000   \n",
       "Mode              100.0       0.580000      0.496045      0.000000   \n",
       "Speechiness       100.0       0.125231      0.108772      0.030000   \n",
       "Acousticness      100.0       0.089471      0.122845      0.000307   \n",
       "Instrumentalness  100.0       0.044521      0.172892      0.000000   \n",
       "Liveness          100.0       0.213728      0.141626      0.029700   \n",
       "Valence           100.0       0.466031      0.216892      0.038500   \n",
       "Tempo             100.0     130.599830     21.329170     61.311000   \n",
       "\n",
       "                           25%           50%           75%         max  \n",
       "Popularity            75.00000      78.00000      83.00000      94.000  \n",
       "Duration(ms)      148430.00000  171777.00000  203162.75000  319192.000  \n",
       "Danceability           0.63550       0.73800       0.81925       0.948  \n",
       "Energy                 0.65650       0.76000       0.86125       0.972  \n",
       "Key                    1.75000       6.00000       8.25000      11.000  \n",
       "Loudness              -6.40625      -5.39550      -4.49800      -0.424  \n",
       "Mode                   0.00000       1.00000       1.00000       1.000  \n",
       "Speechiness            0.04735       0.07795       0.17525       0.491  \n",
       "Acousticness           0.01710       0.04485       0.11275       0.848  \n",
       "Instrumentalness       0.00000       0.00001       0.00128       0.901  \n",
       "Liveness               0.11375       0.15250       0.30950       0.790  \n",
       "Valence                0.30275       0.44450       0.61500       0.972  \n",
       "Tempo                121.89300     127.97050     144.99125     180.011  "
      ]
     },
     "execution_count": 32,
     "metadata": {},
     "output_type": "execute_result"
    }
   ],
   "source": [
    "music_df.describe().T"
   ]
  },
  {
   "cell_type": "code",
   "execution_count": null,
   "id": "a2594d63-89ed-4ba1-8344-a61762aaffa2",
   "metadata": {},
   "outputs": [],
   "source": []
  },
  {
   "cell_type": "code",
   "execution_count": 35,
   "id": "9bbcd4d9-5b1e-40f2-86b6-538b0652e90e",
   "metadata": {},
   "outputs": [
    {
     "data": {
      "text/plain": [
       "0"
      ]
     },
     "execution_count": 35,
     "metadata": {},
     "output_type": "execute_result"
    }
   ],
   "source": [
    "music_df.duplicated().sum()"
   ]
  },
  {
   "cell_type": "code",
   "execution_count": null,
   "id": "45db2dab-1f3b-4eda-8921-bc8bb0a52096",
   "metadata": {},
   "outputs": [],
   "source": []
  },
  {
   "cell_type": "code",
   "execution_count": 36,
   "id": "0f335997-0b0c-4307-9260-e617a5a35305",
   "metadata": {},
   "outputs": [
    {
     "data": {
      "text/plain": [
       "Track_Name          0\n",
       "Artists             0\n",
       "Album_Name          0\n",
       "Album_ID            0\n",
       "Track_ID            0\n",
       "Popularity          0\n",
       "Release_date        0\n",
       "Duration(ms)        0\n",
       "Explicit            0\n",
       "External_URLs       0\n",
       "Danceability        0\n",
       "Energy              0\n",
       "Key                 0\n",
       "Loudness            0\n",
       "Mode                0\n",
       "Speechiness         0\n",
       "Acousticness        0\n",
       "Instrumentalness    0\n",
       "Liveness            0\n",
       "Valence             0\n",
       "Tempo               0\n",
       "dtype: int64"
      ]
     },
     "execution_count": 36,
     "metadata": {},
     "output_type": "execute_result"
    }
   ],
   "source": [
    "music_df.isnull().sum()"
   ]
  },
  {
   "cell_type": "code",
   "execution_count": null,
   "id": "cd9192ea-5c9d-4356-aa51-745255d2efd3",
   "metadata": {},
   "outputs": [],
   "source": []
  },
  {
   "cell_type": "code",
   "execution_count": 37,
   "id": "cad6df24-db52-43f3-ae46-c1fd17963ccc",
   "metadata": {},
   "outputs": [
    {
     "data": {
      "text/plain": [
       "Track_Name           object\n",
       "Artists              object\n",
       "Album_Name           object\n",
       "Album_ID             object\n",
       "Track_ID             object\n",
       "Popularity            int64\n",
       "Release_date         object\n",
       "Duration(ms)          int64\n",
       "Explicit               bool\n",
       "External_URLs        object\n",
       "Danceability        float64\n",
       "Energy              float64\n",
       "Key                   int64\n",
       "Loudness            float64\n",
       "Mode                  int64\n",
       "Speechiness         float64\n",
       "Acousticness        float64\n",
       "Instrumentalness    float64\n",
       "Liveness            float64\n",
       "Valence             float64\n",
       "Tempo               float64\n",
       "dtype: object"
      ]
     },
     "execution_count": 37,
     "metadata": {},
     "output_type": "execute_result"
    }
   ],
   "source": [
    "music_df.dtypes"
   ]
  },
  {
   "cell_type": "code",
   "execution_count": null,
   "id": "62fefe4a-efad-406f-abb2-f60ede3c1588",
   "metadata": {},
   "outputs": [],
   "source": []
  },
  {
   "cell_type": "code",
   "execution_count": 38,
   "id": "4370577b-4f0d-464f-9569-3139b4169cf2",
   "metadata": {},
   "outputs": [
    {
     "data": {
      "text/plain": [
       "Index(['Track_Name', 'Artists', 'Album_Name', 'Album_ID', 'Track_ID',\n",
       "       'Popularity', 'Release_date', 'Duration(ms)', 'Explicit',\n",
       "       'External_URLs', 'Danceability', 'Energy', 'Key', 'Loudness', 'Mode',\n",
       "       'Speechiness', 'Acousticness', 'Instrumentalness', 'Liveness',\n",
       "       'Valence', 'Tempo'],\n",
       "      dtype='object')"
      ]
     },
     "execution_count": 38,
     "metadata": {},
     "output_type": "execute_result"
    }
   ],
   "source": [
    "music_df.columns"
   ]
  },
  {
   "cell_type": "code",
   "execution_count": null,
   "id": "608c229d-25cd-4939-9b5c-2abfa3b335df",
   "metadata": {},
   "outputs": [],
   "source": []
  },
  {
   "cell_type": "code",
   "execution_count": 39,
   "id": "43aa2efe-b222-470f-9e2b-3411d3990233",
   "metadata": {},
   "outputs": [],
   "source": [
    "data = music_df.copy()"
   ]
  },
  {
   "cell_type": "code",
   "execution_count": 40,
   "id": "87742b9a-f9b0-4f16-908a-667c586c6189",
   "metadata": {},
   "outputs": [
    {
     "data": {
      "text/plain": [
       "(100, 21)"
      ]
     },
     "execution_count": 40,
     "metadata": {},
     "output_type": "execute_result"
    }
   ],
   "source": [
    "data.shape"
   ]
  },
  {
   "cell_type": "code",
   "execution_count": null,
   "id": "bd4a0021-060b-48bf-ba86-3678a787b51f",
   "metadata": {},
   "outputs": [],
   "source": []
  },
  {
   "cell_type": "markdown",
   "id": "f971de5b-2b4e-4d64-8ec1-bf9ceb2b9573",
   "metadata": {},
   "source": [
    "### CREATING A FUNCTION TO CALCULATE WEIGHTED POPULARITY SCORES BASED ON RELEASE DATE"
   ]
  },
  {
   "cell_type": "code",
   "execution_count": 41,
   "id": "e0b694aa-37ac-42dc-ba16-59f681d6aabb",
   "metadata": {},
   "outputs": [],
   "source": [
    "from datetime import datetime"
   ]
  },
  {
   "cell_type": "code",
   "execution_count": 42,
   "id": "7ded0006-e287-4820-8ab5-391f2fba2673",
   "metadata": {},
   "outputs": [],
   "source": [
    "def calculate_weighted_popularity(release_date):\n",
    "\n",
    "    # converting the release date string to datetime object so that we can perform arithmetic operations on the dates\n",
    "\n",
    "    release_date = datetime.strptime(release_date, '%Y-%m-%d')\n",
    "\n",
    "    # calculating the time span between release date and today's date\n",
    "\n",
    "    time_span = datetime.now() - release_date\n",
    "\n",
    "    # calculating the weighted popularity score based on time span\n",
    "    # recent released songs will be having higher weights\n",
    "\n",
    "    # Adding 1 to the number of days ensures that the weight is never zero, even for very recent releases--\n",
    "    # as this would lead to a division by zero error.\n",
    "    weight = 1/(time_span.days + 1)\n",
    "\n",
    "    return weight"
   ]
  },
  {
   "cell_type": "code",
   "execution_count": null,
   "id": "54fba8ec-59ee-4012-a823-ea95b5b3febd",
   "metadata": {},
   "outputs": [],
   "source": []
  },
  {
   "cell_type": "markdown",
   "id": "a0016575-5aa4-452a-9faf-a555ea494290",
   "metadata": {},
   "source": [
    "### NORMALIZING THE MUSIC FEATURES"
   ]
  },
  {
   "cell_type": "code",
   "execution_count": 44,
   "id": "57a63972-8138-4cd1-be64-a22d1fffe8f1",
   "metadata": {},
   "outputs": [],
   "source": [
    "from sklearn.preprocessing import MinMaxScaler"
   ]
  },
  {
   "cell_type": "code",
   "execution_count": 45,
   "id": "e7efaaa7-2d12-4f62-a28e-13835f481ac5",
   "metadata": {},
   "outputs": [],
   "source": [
    "scaler = MinMaxScaler()"
   ]
  },
  {
   "cell_type": "code",
   "execution_count": 46,
   "id": "e75a86c5-00ff-4bfe-b73b-0a71535b4345",
   "metadata": {},
   "outputs": [],
   "source": [
    "music_features = data[['Danceability', 'Energy', 'Key', 'Loudness', 'Mode', 'Speechiness', 'Acousticness', 'Instrumentalness', 'Liveness', 'Valence', 'Tempo']].values"
   ]
  },
  {
   "cell_type": "code",
   "execution_count": 47,
   "id": "351ef304-bcc1-4576-97c9-b7fa1aadfc7f",
   "metadata": {},
   "outputs": [],
   "source": [
    "music_features_scaled = scaler.fit_transform(music_features)"
   ]
  },
  {
   "cell_type": "code",
   "execution_count": 127,
   "id": "591ea3a2-e5fd-46c8-84c4-4ae8004c7ad8",
   "metadata": {},
   "outputs": [],
   "source": [
    "music_features_scaled = pd.DataFrame(music_features_scaled)"
   ]
  },
  {
   "cell_type": "code",
   "execution_count": 129,
   "id": "e9c2d558-f316-4dc5-a239-ea488cfa257a",
   "metadata": {},
   "outputs": [
    {
     "data": {
      "text/html": [
       "<div>\n",
       "<style scoped>\n",
       "    .dataframe tbody tr th:only-of-type {\n",
       "        vertical-align: middle;\n",
       "    }\n",
       "\n",
       "    .dataframe tbody tr th {\n",
       "        vertical-align: top;\n",
       "    }\n",
       "\n",
       "    .dataframe thead th {\n",
       "        text-align: right;\n",
       "    }\n",
       "</style>\n",
       "<table border=\"1\" class=\"dataframe\">\n",
       "  <thead>\n",
       "    <tr style=\"text-align: right;\">\n",
       "      <th></th>\n",
       "      <th>0</th>\n",
       "      <th>1</th>\n",
       "      <th>2</th>\n",
       "      <th>3</th>\n",
       "      <th>4</th>\n",
       "      <th>5</th>\n",
       "      <th>6</th>\n",
       "      <th>7</th>\n",
       "      <th>8</th>\n",
       "      <th>9</th>\n",
       "      <th>10</th>\n",
       "    </tr>\n",
       "  </thead>\n",
       "  <tbody>\n",
       "    <tr>\n",
       "      <th>0</th>\n",
       "      <td>0.283401</td>\n",
       "      <td>0.724315</td>\n",
       "      <td>0.090909</td>\n",
       "      <td>0.567423</td>\n",
       "      <td>1.0</td>\n",
       "      <td>0.279826</td>\n",
       "      <td>0.222596</td>\n",
       "      <td>0.000000</td>\n",
       "      <td>0.406813</td>\n",
       "      <td>0.291912</td>\n",
       "      <td>0.731533</td>\n",
       "    </tr>\n",
       "    <tr>\n",
       "      <th>1</th>\n",
       "      <td>0.346154</td>\n",
       "      <td>0.590753</td>\n",
       "      <td>0.181818</td>\n",
       "      <td>0.322686</td>\n",
       "      <td>1.0</td>\n",
       "      <td>0.040781</td>\n",
       "      <td>0.006692</td>\n",
       "      <td>0.001091</td>\n",
       "      <td>0.454163</td>\n",
       "      <td>0.220139</td>\n",
       "      <td>0.933269</td>\n",
       "    </tr>\n",
       "    <tr>\n",
       "      <th>2</th>\n",
       "      <td>0.376518</td>\n",
       "      <td>0.280822</td>\n",
       "      <td>0.181818</td>\n",
       "      <td>0.572868</td>\n",
       "      <td>1.0</td>\n",
       "      <td>0.214751</td>\n",
       "      <td>0.025001</td>\n",
       "      <td>0.000000</td>\n",
       "      <td>0.117454</td>\n",
       "      <td>0.078736</td>\n",
       "      <td>0.704549</td>\n",
       "    </tr>\n",
       "    <tr>\n",
       "      <th>3</th>\n",
       "      <td>0.989879</td>\n",
       "      <td>0.291096</td>\n",
       "      <td>0.181818</td>\n",
       "      <td>0.635292</td>\n",
       "      <td>1.0</td>\n",
       "      <td>0.058134</td>\n",
       "      <td>0.002705</td>\n",
       "      <td>0.000002</td>\n",
       "      <td>0.084177</td>\n",
       "      <td>0.607927</td>\n",
       "      <td>0.367919</td>\n",
       "    </tr>\n",
       "    <tr>\n",
       "      <th>4</th>\n",
       "      <td>0.834008</td>\n",
       "      <td>0.604452</td>\n",
       "      <td>0.636364</td>\n",
       "      <td>0.655694</td>\n",
       "      <td>1.0</td>\n",
       "      <td>0.466377</td>\n",
       "      <td>0.109701</td>\n",
       "      <td>0.000000</td>\n",
       "      <td>0.000000</td>\n",
       "      <td>0.616497</td>\n",
       "      <td>0.621390</td>\n",
       "    </tr>\n",
       "  </tbody>\n",
       "</table>\n",
       "</div>"
      ],
      "text/plain": [
       "         0         1         2         3    4         5         6         7   \\\n",
       "0  0.283401  0.724315  0.090909  0.567423  1.0  0.279826  0.222596  0.000000   \n",
       "1  0.346154  0.590753  0.181818  0.322686  1.0  0.040781  0.006692  0.001091   \n",
       "2  0.376518  0.280822  0.181818  0.572868  1.0  0.214751  0.025001  0.000000   \n",
       "3  0.989879  0.291096  0.181818  0.635292  1.0  0.058134  0.002705  0.000002   \n",
       "4  0.834008  0.604452  0.636364  0.655694  1.0  0.466377  0.109701  0.000000   \n",
       "\n",
       "         8         9         10  \n",
       "0  0.406813  0.291912  0.731533  \n",
       "1  0.454163  0.220139  0.933269  \n",
       "2  0.117454  0.078736  0.704549  \n",
       "3  0.084177  0.607927  0.367919  \n",
       "4  0.000000  0.616497  0.621390  "
      ]
     },
     "execution_count": 129,
     "metadata": {},
     "output_type": "execute_result"
    }
   ],
   "source": [
    "music_features_scaled.head()"
   ]
  },
  {
   "cell_type": "markdown",
   "id": "fb6cf779-f2ce-40b4-8ff5-841f819b6cb6",
   "metadata": {},
   "source": [
    "###  RECOMMENDING MUSIC BASED ON AUDIO FEATURES"
   ]
  },
  {
   "cell_type": "code",
   "execution_count": 49,
   "id": "e6eecb20-6100-4c04-a62e-ff75c2a42671",
   "metadata": {},
   "outputs": [],
   "source": [
    "from sklearn.metrics.pairwise import cosine_similarity"
   ]
  },
  {
   "cell_type": "code",
   "execution_count": 40,
   "id": "ecb30f04-2d01-44de-87c9-78e1506b1540",
   "metadata": {},
   "outputs": [],
   "source": [
    "# Creating a function to get content-based recommendations based on music audio features"
   ]
  },
  {
   "cell_type": "code",
   "execution_count": 88,
   "id": "33a013a3-cd19-43a0-aa22-0cefc51aff7d",
   "metadata": {},
   "outputs": [],
   "source": [
    "def content_base_recommendations(input_song_name, num_recommendations = 5):\n",
    "\n",
    "    if input_song_name not in music_df['Track_Name'].values:\n",
    "        print(f\"'{input_song_name}' not found in the dataset. Please enter a valid song name.\")\n",
    "        return\n",
    "\n",
    "    # fetching the index of the input song in the music dataframe\n",
    "\n",
    "    input_song_index = music_df[music_df['Track_Name'] == input_song_name].index[0]\n",
    "\n",
    "    # calculating the similarity score based on music_features using cosine_similarity\n",
    "\n",
    "    similarity_scores = cosine_similarity([music_features_scaled[input_song_index]], music_features_scaled)\n",
    "\n",
    "    # fetching the indices of the most similar songs\n",
    "    # sorting the indices of an array and reversing the array and slicing the array from first index excluding the input song itself\n",
    "    similar_song_indices = similarity_scores.argsort()[0][::-1][1:num_recommendations + 1]\n",
    "\n",
    "    # fetching the names of the most similar songs based on content-based filtering\n",
    "\n",
    "    content_based_recommendations = music_df.iloc[similar_song_indices][['Track_Name', 'Artists', 'Album_Name', 'Release_date', 'Popularity']]\n",
    "\n",
    "    return content_based_recommendations"
   ]
  },
  {
   "cell_type": "code",
   "execution_count": 90,
   "id": "c92849c8-1c52-4bdc-9edb-64b585853d60",
   "metadata": {},
   "outputs": [
    {
     "data": {
      "text/html": [
       "<div>\n",
       "<style scoped>\n",
       "    .dataframe tbody tr th:only-of-type {\n",
       "        vertical-align: middle;\n",
       "    }\n",
       "\n",
       "    .dataframe tbody tr th {\n",
       "        vertical-align: top;\n",
       "    }\n",
       "\n",
       "    .dataframe thead th {\n",
       "        text-align: right;\n",
       "    }\n",
       "</style>\n",
       "<table border=\"1\" class=\"dataframe\">\n",
       "  <thead>\n",
       "    <tr style=\"text-align: right;\">\n",
       "      <th></th>\n",
       "      <th>Track_Name</th>\n",
       "      <th>Artists</th>\n",
       "      <th>Album_Name</th>\n",
       "      <th>Release_date</th>\n",
       "      <th>Popularity</th>\n",
       "    </tr>\n",
       "  </thead>\n",
       "  <tbody>\n",
       "    <tr>\n",
       "      <th>91</th>\n",
       "      <td>Sunshine (My Girl)</td>\n",
       "      <td>Wuki</td>\n",
       "      <td>Sunshine (My Girl)</td>\n",
       "      <td>2023-09-01</td>\n",
       "      <td>72</td>\n",
       "    </tr>\n",
       "    <tr>\n",
       "      <th>89</th>\n",
       "      <td>Rhyme Dust</td>\n",
       "      <td>MK, Dom Dolla</td>\n",
       "      <td>Rhyme Dust</td>\n",
       "      <td>2023-02-24</td>\n",
       "      <td>72</td>\n",
       "    </tr>\n",
       "    <tr>\n",
       "      <th>93</th>\n",
       "      <td>Pink Venom</td>\n",
       "      <td>BLACKPINK</td>\n",
       "      <td>Pink Venom</td>\n",
       "      <td>2022-08-19</td>\n",
       "      <td>71</td>\n",
       "    </tr>\n",
       "    <tr>\n",
       "      <th>33</th>\n",
       "      <td>Belly Dancer</td>\n",
       "      <td>Imanbek, BYOR</td>\n",
       "      <td>Belly Dancer</td>\n",
       "      <td>2022-02-18</td>\n",
       "      <td>81</td>\n",
       "    </tr>\n",
       "    <tr>\n",
       "      <th>85</th>\n",
       "      <td>Marianela (Que Pasa)</td>\n",
       "      <td>HUGEL, Merk &amp; Kremont, Lirico En La Casa</td>\n",
       "      <td>Marianela (Que Pasa)</td>\n",
       "      <td>2022-11-25</td>\n",
       "      <td>72</td>\n",
       "    </tr>\n",
       "  </tbody>\n",
       "</table>\n",
       "</div>"
      ],
      "text/plain": [
       "              Track_Name                                   Artists  \\\n",
       "91    Sunshine (My Girl)                                      Wuki   \n",
       "89            Rhyme Dust                             MK, Dom Dolla   \n",
       "93            Pink Venom                                 BLACKPINK   \n",
       "33          Belly Dancer                             Imanbek, BYOR   \n",
       "85  Marianela (Que Pasa)  HUGEL, Merk & Kremont, Lirico En La Casa   \n",
       "\n",
       "              Album_Name Release_date  Popularity  \n",
       "91    Sunshine (My Girl)   2023-09-01          72  \n",
       "89            Rhyme Dust   2023-02-24          72  \n",
       "93            Pink Venom   2022-08-19          71  \n",
       "33          Belly Dancer   2022-02-18          81  \n",
       "85  Marianela (Que Pasa)   2022-11-25          72  "
      ]
     },
     "execution_count": 90,
     "metadata": {},
     "output_type": "execute_result"
    }
   ],
   "source": [
    "output = content_base_recommendations('Lovin On Me')\n",
    "output"
   ]
  },
  {
   "cell_type": "code",
   "execution_count": null,
   "id": "69a8e9e1-07f8-4660-9eac-ed310f768123",
   "metadata": {},
   "outputs": [],
   "source": []
  },
  {
   "cell_type": "markdown",
   "id": "53d05d1c-db20-4d24-a381-3d33a0febb9c",
   "metadata": {},
   "source": [
    "### RECOMMENDING MUSIC BASED ON POPULARITY"
   ]
  },
  {
   "cell_type": "code",
   "execution_count": null,
   "id": "1a95eb17-c020-49e4-9578-b4233cd437fb",
   "metadata": {},
   "outputs": [],
   "source": []
  },
  {
   "cell_type": "code",
   "execution_count": 124,
   "id": "61ba4506-460d-415f-9984-fea7056bb95c",
   "metadata": {},
   "outputs": [],
   "source": [
    "def hybrid_recommendation_fun(input_song_name, num_recommendations = 5, alpha = 0.5):\n",
    "\n",
    "    if input_song_name not in music_df['Track_Name'].values:\n",
    "        print(f\"'{input_song_name}' not found in the dataset. Please enter a valid song name.\")\n",
    "        return\n",
    "\n",
    "    # get the content-based-recommendations\n",
    "\n",
    "    content_based_rec = content_base_recommendations(input_song_name, num_recommendations)\n",
    "\n",
    "    # fetcing the popularity score of the input song\n",
    "\n",
    "    popularity_score = music_df.loc[music_df['Track_Name'] == input_song_name, 'Popularity'].values[0]\n",
    "\n",
    "    # calculating the weighted popularity score\n",
    "\n",
    "    weighted_popularity_score = popularity_score * calculate_weighted_popularity(music_df.loc[music_df['Track_Name'] == input_song_name, 'Release_date'].values[0])\n",
    "\n",
    "    content_based_df = content_based_rec\n",
    "    \n",
    "    # combining content-based and popularity-based recommendation based on weighted popularity\n",
    "    \n",
    "\n",
    "    hybrid_recommendations_df = pd.DataFrame({\n",
    "        'Track_Name': [input_song_name],\n",
    "        'Artists': [music_df.loc[music_df['Track_Name'] == input_song_name, 'Artists'].values[0]],\n",
    "        'Album_Name': [music_df.loc[music_df['Track_Name'] == input_song_name, 'Album_Name'].values[0]],\n",
    "        'Release_date': [music_df.loc[music_df['Track_Name'] == input_song_name, 'Release_date'].values[0]],\n",
    "        'Popularity': [weighted_popularity_score]})\n",
    "\n",
    "    # final_df = content_based_df.append(hybrid_recommendations_df)\n",
    "\n",
    "    final_df = pd.concat([content_based_df, hybrid_recommendations_df])\n",
    "\n",
    "    # print(hybrid_recommendations_df)\n",
    "    # sorting the hybrid recommendations based on weighted-popularity-score\n",
    "    final_df = final_df.sort_values(by = 'Popularity', ascending = False)\n",
    "\n",
    "    # removing the input song from the recommendations\n",
    "\n",
    "    final_df = final_df[final_df['Track_Name'] != input_song_name]\n",
    "\n",
    "    return final_df"
   ]
  },
  {
   "cell_type": "code",
   "execution_count": null,
   "id": "76f7a6b9-6c80-4589-a59b-e40e690a2b3f",
   "metadata": {},
   "outputs": [],
   "source": []
  },
  {
   "cell_type": "markdown",
   "id": "d141667a-8559-454f-aef5-4acda316c252",
   "metadata": {},
   "source": [
    "### FETCHING THE RECOMMENDATIONS"
   ]
  },
  {
   "cell_type": "code",
   "execution_count": 126,
   "id": "f44fc4ac-349a-46fd-a340-f2235e13075a",
   "metadata": {},
   "outputs": [
    {
     "data": {
      "text/html": [
       "<div>\n",
       "<style scoped>\n",
       "    .dataframe tbody tr th:only-of-type {\n",
       "        vertical-align: middle;\n",
       "    }\n",
       "\n",
       "    .dataframe tbody tr th {\n",
       "        vertical-align: top;\n",
       "    }\n",
       "\n",
       "    .dataframe thead th {\n",
       "        text-align: right;\n",
       "    }\n",
       "</style>\n",
       "<table border=\"1\" class=\"dataframe\">\n",
       "  <thead>\n",
       "    <tr style=\"text-align: right;\">\n",
       "      <th></th>\n",
       "      <th>Track_Name</th>\n",
       "      <th>Artists</th>\n",
       "      <th>Album_Name</th>\n",
       "      <th>Release_date</th>\n",
       "      <th>Popularity</th>\n",
       "    </tr>\n",
       "  </thead>\n",
       "  <tbody>\n",
       "    <tr>\n",
       "      <th>39</th>\n",
       "      <td>Thunder</td>\n",
       "      <td>Gabry Ponte, LUM!X, Prezioso</td>\n",
       "      <td>Thunder</td>\n",
       "      <td>2021-05-07</td>\n",
       "      <td>80.0</td>\n",
       "    </tr>\n",
       "    <tr>\n",
       "      <th>91</th>\n",
       "      <td>Sunshine (My Girl)</td>\n",
       "      <td>Wuki</td>\n",
       "      <td>Sunshine (My Girl)</td>\n",
       "      <td>2023-09-01</td>\n",
       "      <td>72.0</td>\n",
       "    </tr>\n",
       "    <tr>\n",
       "      <th>85</th>\n",
       "      <td>Marianela (Que Pasa)</td>\n",
       "      <td>HUGEL, Merk &amp; Kremont, Lirico En La Casa</td>\n",
       "      <td>Marianela (Que Pasa)</td>\n",
       "      <td>2022-11-25</td>\n",
       "      <td>72.0</td>\n",
       "    </tr>\n",
       "    <tr>\n",
       "      <th>93</th>\n",
       "      <td>Pink Venom</td>\n",
       "      <td>BLACKPINK</td>\n",
       "      <td>Pink Venom</td>\n",
       "      <td>2022-08-19</td>\n",
       "      <td>71.0</td>\n",
       "    </tr>\n",
       "    <tr>\n",
       "      <th>98</th>\n",
       "      <td>Murder On The Dancefloor - David Guetta Remix</td>\n",
       "      <td>Sophie Ellis-Bextor, David Guetta</td>\n",
       "      <td>Murder On The Dancefloor (David Guetta Remix)</td>\n",
       "      <td>2024-03-08</td>\n",
       "      <td>70.0</td>\n",
       "    </tr>\n",
       "  </tbody>\n",
       "</table>\n",
       "</div>"
      ],
      "text/plain": [
       "                                       Track_Name  \\\n",
       "39                                        Thunder   \n",
       "91                             Sunshine (My Girl)   \n",
       "85                           Marianela (Que Pasa)   \n",
       "93                                     Pink Venom   \n",
       "98  Murder On The Dancefloor - David Guetta Remix   \n",
       "\n",
       "                                     Artists  \\\n",
       "39              Gabry Ponte, LUM!X, Prezioso   \n",
       "91                                      Wuki   \n",
       "85  HUGEL, Merk & Kremont, Lirico En La Casa   \n",
       "93                                 BLACKPINK   \n",
       "98         Sophie Ellis-Bextor, David Guetta   \n",
       "\n",
       "                                       Album_Name Release_date  Popularity  \n",
       "39                                        Thunder   2021-05-07        80.0  \n",
       "91                             Sunshine (My Girl)   2023-09-01        72.0  \n",
       "85                           Marianela (Que Pasa)   2022-11-25        72.0  \n",
       "93                                     Pink Venom   2022-08-19        71.0  \n",
       "98  Murder On The Dancefloor (David Guetta Remix)   2024-03-08        70.0  "
      ]
     },
     "execution_count": 126,
     "metadata": {},
     "output_type": "execute_result"
    }
   ],
   "source": [
    "input_song_name = \"Belly Dancer\"\n",
    "\n",
    "recommended_music = hybrid_recommendation_fun(input_song_name, num_recommendations = 5)\n",
    "\n",
    "recommended_music"
   ]
  },
  {
   "cell_type": "code",
   "execution_count": null,
   "id": "00a304a5-fc8d-4165-aed4-09b4d693f812",
   "metadata": {},
   "outputs": [],
   "source": []
  },
  {
   "cell_type": "markdown",
   "id": "ff502b85-a1af-4faa-85bd-c20991a3cdae",
   "metadata": {},
   "source": [
    "### SAVING THE MUSIC_FEATURES_DATAFRAME AND MUSIC_DATAFRAME AS A PICKLE FILES"
   ]
  },
  {
   "cell_type": "code",
   "execution_count": 130,
   "id": "683b6fda-1fc1-4212-b34a-b7c54a04ce39",
   "metadata": {},
   "outputs": [],
   "source": [
    "import pickle\n",
    "\n",
    "pickle.dump(music_features_scaled, open('artifacts/music_features_scaled.pkl', 'wb'))\n",
    "pickle.dump(music_df, open('artifacts/music_df.pkl', 'wb'))"
   ]
  },
  {
   "cell_type": "code",
   "execution_count": null,
   "id": "a7ec7c55-03b5-4d4b-92d6-d9f84712c1c2",
   "metadata": {},
   "outputs": [],
   "source": []
  },
  {
   "cell_type": "code",
   "execution_count": null,
   "id": "653b7022-ee8d-4e0e-b7a8-366aa441e7e0",
   "metadata": {},
   "outputs": [],
   "source": []
  },
  {
   "cell_type": "code",
   "execution_count": null,
   "id": "4431e98c-c0c4-4403-86a2-3aaa0730e8ad",
   "metadata": {},
   "outputs": [],
   "source": []
  },
  {
   "cell_type": "code",
   "execution_count": null,
   "id": "dbda9c01-1e99-4b3a-8192-c97e5fd44d4a",
   "metadata": {},
   "outputs": [],
   "source": []
  }
 ],
 "metadata": {
  "kernelspec": {
   "display_name": "Python 3 (ipykernel)",
   "language": "python",
   "name": "python3"
  },
  "language_info": {
   "codemirror_mode": {
    "name": "ipython",
    "version": 3
   },
   "file_extension": ".py",
   "mimetype": "text/x-python",
   "name": "python",
   "nbconvert_exporter": "python",
   "pygments_lexer": "ipython3",
   "version": "3.12.0"
  }
 },
 "nbformat": 4,
 "nbformat_minor": 5
}
